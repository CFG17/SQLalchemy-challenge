{
 "cells": [
  {
   "cell_type": "code",
   "execution_count": 1,
   "metadata": {},
   "outputs": [],
   "source": [
    "import numpy as np\n",
    "import pandas as pd\n",
    "import sqlalchemy\n",
    "from sqlalchemy.ext.automap import automap_base\n",
    "from sqlalchemy.orm import Session\n",
    "from sqlalchemy import create_engine, func\n"
   ]
  },
  {
   "cell_type": "code",
   "execution_count": 2,
   "metadata": {},
   "outputs": [],
   "source": [
    "from flask import Flask, jsonify\n",
    "\n",
    "import datetime as dt"
   ]
  },
  {
   "cell_type": "code",
   "execution_count": 3,
   "metadata": {},
   "outputs": [],
   "source": [
    "#connect to the hawai sqllite\n",
    "engine = create_engine(\"sqlite:///Resources/hawaii.sqlite\",connect_args={'check_same_thread': False})\n",
    "# reflect an existing database into a new model\n",
    "Base = automap_base()\n",
    "# reflect the tables\n",
    "Base.prepare(engine, reflect=True)\n",
    "#lookup tables in the model\n",
    "Base.classes.keys()\n",
    "# Save reference to the table\n",
    "Measurement = Base.classes.measurement\n",
    "Station = Base.classes.station"
   ]
  },
  {
   "cell_type": "code",
   "execution_count": 4,
   "metadata": {},
   "outputs": [
    {
     "name": "stdout",
     "output_type": "stream",
     "text": [
      "2010-01-01\n",
      "2017-08-23\n",
      "2016-08-23\n"
     ]
    }
   ],
   "source": [
    "# Create our session (link) from Python to the DB\n",
    "session = Session(engine)\n",
    "first_date = session.query(Measurement.date).order_by((Measurement.date)).limit(1).all()\n",
    "print(first_date[0][0])\n",
    "last_date = session.query(Measurement.date).order_by((Measurement.date).desc()).limit(1).all()\n",
    "print(last_date[0][0])\n",
    "last_12mnth = (dt.datetime.strptime(last_date[0][0], '%Y-%m-%d') - dt.timedelta(days=365)).date()\n",
    "print(last_12mnth)\n",
    "\n",
    "#################################################\n",
    "# Flask Setup\n",
    "#################################################\n",
    "app=Flask(__name__)\n",
    "#################################################\n",
    "# Flask Routes\n",
    "#################################################\n"
   ]
  },
  {
   "cell_type": "code",
   "execution_count": 5,
   "metadata": {},
   "outputs": [],
   "source": [
    "app=Flask(__name__)\n",
    "#Have the home page return the information of the different routes\n",
    "@app.route(\"/\")\n",
    "def welcome():#List all routes that are available in the home page\n",
    "    return (\n",
    "        f\"<p>Aloha - Welcome to the Hawaii weather API!!!!!!</p>\"\n",
    "        f\"<p>All routes available:</p>\"\n",
    "        f\"/api/v1.0/precipitation<br/>Returns a JSON representation of percipitation data for the dates between {last_12mnth} and {last_date[0][0]}<br/><br/>\"\n",
    "        f\"/api/v1.0/stations<br/>Returns a JSON list of the weather stations<br/><br/>\"\n",
    "        f\"/api/v1.0/tobs<br/>Returns a JSON list of the Temperature Observations (tobs) for each station for the dates between {last_12mnth} and {last_date[0][0]}<br/><br/>\"\n",
    "        f\"/api/v1.0/yourstartdate(yyyy-mm-dd)<br/>Returns a JSON list of the minimum temperature, the average temperature, and the max temperature for the dates from the given start date in yyyy-mm-dd format <br/><br/>.\"\n",
    "        f\"/api/v1.0/start_date(yyyy-mm-dd)/end_date(yyyy-mm-dd)<br/>Returns a JSON list of the minimum temperature, the average temperature, and the max temperature for the dates between the given start date and end date<br/><br/>.\"\n",
    "    )"
   ]
  },
  {
   "cell_type": "code",
   "execution_count": 6,
   "metadata": {},
   "outputs": [],
   "source": [
    "@app.route(\"/api/v1.0/precipitation\")\n",
    "def precipitation():\n",
    "    print(\"precipitation status:OK\")\n",
    "    #query to retrieve the last 12 months of precipitation data.\n",
    "    results = session.query(Measurement.date, Measurement.prcp).filter(Measurement.date >= last_12mnth)\\\n",
    "        .filter(Measurement.station == Station.station).all()\n",
    "    #Convert the query results to a Dictionary using date as the key and prcp as the value.\n",
    "    prcp_totals = []\n",
    "    for result in results:\n",
    "        row = {}\n",
    "        row[\"date\"] = result[0]\n",
    "        row[\"prcp\"] = result[1]\n",
    "        prcp_totals.append(row)\n",
    "    #Return the JSON representation of your dictionary.\n",
    "    return jsonify(prcp_totals)"
   ]
  },
  {
   "cell_type": "code",
   "execution_count": 7,
   "metadata": {},
   "outputs": [],
   "source": [
    "@app.route(\"/api/v1.0/stations\")\n",
    "def station():\n",
    "\tprint(\"station status:OK\")\n",
    "\t#a query to get the stations.\n",
    "\tstations_query = session.query(Station.name, Station.station)\n",
    "\tstations = pd.read_sql(stations_query.statement, stations_query.session.bind)\n",
    "\t#Return a JSON list of stations from the dataset.\n",
    "\treturn jsonify(stations.to_dict())"
   ]
  },
  {
   "cell_type": "code",
   "execution_count": 40,
   "metadata": {},
   "outputs": [],
   "source": [
    "@app.route(\"/api/v1.0/tobs\")\n",
    "def tobs():\n",
    "\tprint(\"tobs status:OK\")\n",
    "\t#query for the dates and temperature observations from a year from the last data point\n",
    "\ttobs_results = session.query(Measurement.date, Measurement.tobs).\\\n",
    "\tfilter(Measurement.date >= last_12mnth).order_by(Measurement.date).all()\n",
    "\t# Create a list of dicts with `date` and `tobs` as the keys and values\n",
    "\ttobs_totals = []\n",
    "\tfor result in tobs_results:\n",
    "\t\trow = {}\n",
    "\t\trow[\"date\"] = result[0]\n",
    "\t\trow[\"tobs\"] = result[1]\n",
    "\t\ttobs_totals.append(row)\n",
    "\t#Return a JSON list of Temperature Observations (tobs) for the previous year.\n",
    "\treturn jsonify(tobs_totals)"
   ]
  },
  {
   "cell_type": "code",
   "execution_count": 41,
   "metadata": {},
   "outputs": [],
   "source": [
    "@app.route(\"/api/v1.0/<start>\")\n",
    "def start_date(start):\n",
    "\tprint(\"start_date status:OK\")\n",
    "\t#convert the tsring from user to date\n",
    "\tstart_date = dt.datetime.strptime(start, '%Y-%m-%d').date()\n",
    "\tlast_date_dd = (dt.datetime.strptime(last_date[0][0], '%Y-%m-%d')).date() \n",
    "\tfirst_date_dd = (dt.datetime.strptime(first_date[0][0], '%Y-%m-%d')).date()\n",
    "\t#if fgiven start_date greater than last or lesser than first available date in dataset, print the following \n",
    "\tif start_date > last_date_dd or start_date < first_date_dd:\n",
    "\t\treturn(f\"Select date range between {first_date[0][0]} and {last_date[0][0]}\")\n",
    "\telse:\n",
    "\t\t#Return a JSON list of the minimum temperature, the average temperature, \n",
    "\t\t#and the max temperature for a given start range.\n",
    "\t\tstart_min_max_temp = session.query(func.min(Measurement.tobs), func.avg(Measurement.tobs),\\\n",
    "\t\t\tfunc.max(Measurement.tobs)).filter(Measurement.date >= start_date).all()\n",
    "\t\tstart_date_data = list(np.ravel(start_min_max_temp))\n",
    "\t\treturn jsonify(start_date_data)"
   ]
  },
  {
   "cell_type": "code",
   "execution_count": null,
   "metadata": {},
   "outputs": [],
   "source": []
  },
  {
   "cell_type": "code",
   "execution_count": null,
   "metadata": {},
   "outputs": [],
   "source": []
  }
 ],
 "metadata": {
  "kernelspec": {
   "display_name": "Python [conda env:PythonData] *",
   "language": "python",
   "name": "conda-env-PythonData-py"
  },
  "language_info": {
   "codemirror_mode": {
    "name": "ipython",
    "version": 3
   },
   "file_extension": ".py",
   "mimetype": "text/x-python",
   "name": "python",
   "nbconvert_exporter": "python",
   "pygments_lexer": "ipython3",
   "version": "3.6.10"
  }
 },
 "nbformat": 4,
 "nbformat_minor": 4
}
